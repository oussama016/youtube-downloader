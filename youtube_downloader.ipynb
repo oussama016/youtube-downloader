{
  "nbformat": 4,
  "nbformat_minor": 0,
  "metadata": {
    "colab": {
      "name": "youtube downloader",
      "provenance": [],
      "toc_visible": true
    },
    "kernelspec": {
      "name": "python3",
      "display_name": "Python 3"
    },
    "language_info": {
      "name": "python"
    }
  },
  "cells": [
    {
      "cell_type": "code",
      "execution_count": null,
      "metadata": {
        "id": "TIpLVg2l4LGA"
      },
      "outputs": [],
      "source": [
        "# !pip install pytube"
      ]
    },
    {
      "cell_type": "code",
      "source": [
        "from pytube import YouTube\n",
        "from sys import argv\n",
        "from google.colab import files"
      ],
      "metadata": {
        "id": "4ByPNKeN4TK5"
      },
      "execution_count": null,
      "outputs": []
    },
    {
      "cell_type": "code",
      "source": [
        "def downloadvideo(link):\n",
        "  # link = argv[1]\n",
        "  # link = \"https://www.youtube.com/watch?v=vEQ8CXFWLZU&ab_channel=InternetMadeCoder\"\n",
        "  yt = YouTube(link)\n",
        "  print('**title :',yt.title, '** author :' ,yt.author, '** lenght : ', yt.length ,'** views :' ,yt.views , '**')\n",
        "  yd = yt.streams.get_highest_resolution().download()\n",
        "  files.download(yd)\n",
        "  \n",
        "downloadvideo('https://www.youtube.com/watch?v=2kx2aWfC09Q&ab_channel=ESPN')\n"
      ],
      "metadata": {
        "id": "I7nR-BuM4mR-",
        "colab": {
          "base_uri": "https://localhost:8080/",
          "height": 34
        },
        "outputId": "fbec359f-4dc7-4c9c-ae48-6bfa05a748b1"
      },
      "execution_count": null,
      "outputs": [
        {
          "output_type": "stream",
          "name": "stdout",
          "text": [
            "**title : Reacting to Steph Curry's ESPYS performance | NBA Today ** author : ESPN ** lenght :  109 ** views : 29481 **\n"
          ]
        },
        {
          "output_type": "display_data",
          "data": {
            "text/plain": [
              "<IPython.core.display.Javascript object>"
            ],
            "application/javascript": [
              "\n",
              "    async function download(id, filename, size) {\n",
              "      if (!google.colab.kernel.accessAllowed) {\n",
              "        return;\n",
              "      }\n",
              "      const div = document.createElement('div');\n",
              "      const label = document.createElement('label');\n",
              "      label.textContent = `Downloading \"${filename}\": `;\n",
              "      div.appendChild(label);\n",
              "      const progress = document.createElement('progress');\n",
              "      progress.max = size;\n",
              "      div.appendChild(progress);\n",
              "      document.body.appendChild(div);\n",
              "\n",
              "      const buffers = [];\n",
              "      let downloaded = 0;\n",
              "\n",
              "      const channel = await google.colab.kernel.comms.open(id);\n",
              "      // Send a message to notify the kernel that we're ready.\n",
              "      channel.send({})\n",
              "\n",
              "      for await (const message of channel.messages) {\n",
              "        // Send a message to notify the kernel that we're ready.\n",
              "        channel.send({})\n",
              "        if (message.buffers) {\n",
              "          for (const buffer of message.buffers) {\n",
              "            buffers.push(buffer);\n",
              "            downloaded += buffer.byteLength;\n",
              "            progress.value = downloaded;\n",
              "          }\n",
              "        }\n",
              "      }\n",
              "      const blob = new Blob(buffers, {type: 'application/binary'});\n",
              "      const a = document.createElement('a');\n",
              "      a.href = window.URL.createObjectURL(blob);\n",
              "      a.download = filename;\n",
              "      div.appendChild(a);\n",
              "      a.click();\n",
              "      div.remove();\n",
              "    }\n",
              "  "
            ]
          },
          "metadata": {}
        },
        {
          "output_type": "display_data",
          "data": {
            "text/plain": [
              "<IPython.core.display.Javascript object>"
            ],
            "application/javascript": [
              "download(\"download_fef9f2cf-a5a6-4e3e-adc9-676b7034a9a8\", \"Reacting to Steph Currys ESPYS performance  NBA Today.mp4\", 16984492)"
            ]
          },
          "metadata": {}
        }
      ]
    },
    {
      "cell_type": "code",
      "source": [
        "ls -l"
      ],
      "metadata": {
        "colab": {
          "base_uri": "https://localhost:8080/"
        },
        "id": "vWWYwFfk5KWC",
        "outputId": "fc94d6be-b15e-4ce9-95bf-b091c46f8ca3"
      },
      "execution_count": null,
      "outputs": [
        {
          "output_type": "stream",
          "name": "stdout",
          "text": [
            "total 4\n",
            "drwxr-xr-x 1 root root 4096 Jul 13 13:43 \u001b[0m\u001b[01;34msample_data\u001b[0m/\n"
          ]
        }
      ]
    },
    {
      "cell_type": "code",
      "source": [
        "!rm *.mp4"
      ],
      "metadata": {
        "id": "Ml2kPHG0JQE8"
      },
      "execution_count": null,
      "outputs": []
    }
  ]
}